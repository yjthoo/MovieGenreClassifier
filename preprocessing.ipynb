{
 "cells": [
  {
   "cell_type": "code",
   "execution_count": 11,
   "metadata": {},
   "outputs": [],
   "source": [
    "import numpy as np\n",
    "import pandas as pd\n",
    "from ast import literal_eval\n",
    "\n",
    "import nltk\n",
    "from nltk import FreqDist\n",
    "from nltk.corpus import stopwords\n",
    "from nltk.tokenize import word_tokenize\n",
    "\n",
    "import matplotlib.pyplot as plt"
   ]
  },
  {
   "cell_type": "code",
   "execution_count": 12,
   "metadata": {},
   "outputs": [],
   "source": [
    "def preprocessOverview(text):\n",
    "    \n",
    "    # tokenize text and set to lower case\n",
    "    tokens = [x.strip().lower() for x in nltk.word_tokenize(text)]\n",
    "    \n",
    "     # get stopwords from nltk, remove them from our list as well as all punctuations and numbers\n",
    "    stop_words = stopwords.words('english')\n",
    "    output = [word for word in tokens if (word not in stop_words and word.isalpha())]\n",
    "    \n",
    "    return \" \".join(output)"
   ]
  },
  {
   "cell_type": "code",
   "execution_count": 13,
   "metadata": {},
   "outputs": [],
   "source": [
    "def preprocessGenres(df, relevant_treshold):\n",
    "    # extract the names of the genres\n",
    "    df[\"genres\"] = df[\"genres\"].fillna('[]').apply(literal_eval).apply(lambda x: [i[\"name\"] for i in x] if isinstance(x, list) else [])\n",
    "\n",
    "    # drop rows where no genre is specified # (45'466 --> 43'024)\n",
    "    df.drop(df.loc[(df['genres'].str.len() == 0),:].copy().index, inplace = True)\n",
    "    \n",
    "    # keep relevant genres (more than 1000 appearances) (32 genres to 19)\n",
    "    all_genres = df[\"genres\"].tolist()\n",
    "    full_list_genres = [genre for movie_genres in all_genres for genre in movie_genres] \n",
    "    freqdist = FreqDist(full_list_genres)\n",
    "    relevant = sorted(w for w in set(full_list_genres) if freqdist[w] > relevant_treshold) \n",
    "    \n",
    "    # keep only one genre per movie\n",
    "    def set_genre(serie, relevant):\n",
    "        for genre in serie:\n",
    "            if genre in relevant:\n",
    "                return genre\n",
    "        return np.nan\n",
    "    df[\"genres\"] = df[\"genres\"].apply(lambda x: set_genre(x, relevant))\n",
    "    \n",
    "    # remove movies without relevant genre (43024, 5) --> (43014, 5)\n",
    "    df = df.dropna()\n",
    "    \n",
    "    return df"
   ]
  },
  {
   "cell_type": "code",
   "execution_count": 14,
   "metadata": {},
   "outputs": [],
   "source": [
    "def genresLabel(df):\n",
    "    \n",
    "    # determine the unique genres contained within our dataset\n",
    "    genres = df[\"genres\"]\n",
    "    genres = sorted(set(genres))\n",
    "    \n",
    "    genresDic = {}\n",
    "    labelNb = 0\n",
    "    \n",
    "    # assign a label to each genre\n",
    "    for genre in genres:\n",
    "        genresDic[genre] = labelNb\n",
    "        labelNb += 1\n",
    "        \n",
    "    # create a column and insert the value corresponding to the genre\n",
    "    df[\"genre label\"] = df[\"genres\"].apply(lambda x: genresDic[x])\n",
    "    \n",
    "    return df, genresDic"
   ]
  },
  {
   "cell_type": "code",
   "execution_count": 15,
   "metadata": {},
   "outputs": [],
   "source": [
    "def preprocessDataset(df, relevant_treshold=1000):\n",
    "    \n",
    "    # keep only the columns that are relevant to this application\n",
    "    relCols = ['original_title', 'overview', 'genres']\n",
    "    df = df[relCols].copy()      #(45466, 24) --> (45466, 3)\n",
    "    \n",
    "    # preprocess overview\n",
    "    df[\"overview\"] = df[\"overview\"].astype(str).apply(lambda x: preprocessOverview(x))\n",
    "    \n",
    "    # preprocess genres label\n",
    "    df = preprocessGenres(df, relevant_treshold)\n",
    "    \n",
    "    # give genres a label\n",
    "    df, genresDict = genresLabel(df)\n",
    "    \n",
    "    return df, genresDict"
   ]
  },
  {
   "cell_type": "code",
   "execution_count": 16,
   "metadata": {},
   "outputs": [],
   "source": [
    "df = pd.read_csv('datasets/movies_metadata.csv')\n",
    "df, genresDic = preprocessDataset(df)"
   ]
  },
  {
   "cell_type": "code",
   "execution_count": 27,
   "metadata": {},
   "outputs": [],
   "source": [
    "def labelFile(df, genresDict):\n",
    "    genreLabel = pd.DataFrame.from_dict(genresDict, orient='index')\n",
    "    genreLabel.reset_index(level=0, inplace=True)\n",
    "    genreLabel.columns = ['genre', 'label']\n",
    "    \n",
    "    genreCol = df['genres'].tolist()\n",
    "    fdist1 = FreqDist(genreCol)\n",
    "    \n",
    "    class_weights = []\n",
    "\n",
    "    for key, value in sorted(fdist1.most_common(50)):\n",
    "        class_weights.append(value/len(df))\n",
    "        \n",
    "    genreLabel['weight'] = class_weights\n",
    "    \n",
    "    return genreLabel"
   ]
  },
  {
   "cell_type": "code",
   "execution_count": 29,
   "metadata": {},
   "outputs": [],
   "source": [
    "genreLabel = labelFile(df, genresDic)"
   ]
  },
  {
   "cell_type": "code",
   "execution_count": 30,
   "metadata": {},
   "outputs": [
    {
     "data": {
      "text/html": [
       "<div>\n",
       "<style scoped>\n",
       "    .dataframe tbody tr th:only-of-type {\n",
       "        vertical-align: middle;\n",
       "    }\n",
       "\n",
       "    .dataframe tbody tr th {\n",
       "        vertical-align: top;\n",
       "    }\n",
       "\n",
       "    .dataframe thead th {\n",
       "        text-align: right;\n",
       "    }\n",
       "</style>\n",
       "<table border=\"1\" class=\"dataframe\">\n",
       "  <thead>\n",
       "    <tr style=\"text-align: right;\">\n",
       "      <th></th>\n",
       "      <th>genre</th>\n",
       "      <th>label</th>\n",
       "      <th>weight</th>\n",
       "    </tr>\n",
       "  </thead>\n",
       "  <tbody>\n",
       "    <tr>\n",
       "      <th>0</th>\n",
       "      <td>Action</td>\n",
       "      <td>0</td>\n",
       "      <td>0.105105</td>\n",
       "    </tr>\n",
       "    <tr>\n",
       "      <th>1</th>\n",
       "      <td>Adventure</td>\n",
       "      <td>1</td>\n",
       "      <td>0.035384</td>\n",
       "    </tr>\n",
       "    <tr>\n",
       "      <th>2</th>\n",
       "      <td>Animation</td>\n",
       "      <td>2</td>\n",
       "      <td>0.026294</td>\n",
       "    </tr>\n",
       "    <tr>\n",
       "      <th>3</th>\n",
       "      <td>Comedy</td>\n",
       "      <td>3</td>\n",
       "      <td>0.206189</td>\n",
       "    </tr>\n",
       "    <tr>\n",
       "      <th>4</th>\n",
       "      <td>Crime</td>\n",
       "      <td>4</td>\n",
       "      <td>0.039685</td>\n",
       "    </tr>\n",
       "    <tr>\n",
       "      <th>5</th>\n",
       "      <td>Documentary</td>\n",
       "      <td>5</td>\n",
       "      <td>0.079695</td>\n",
       "    </tr>\n",
       "    <tr>\n",
       "      <th>6</th>\n",
       "      <td>Drama</td>\n",
       "      <td>6</td>\n",
       "      <td>0.281281</td>\n",
       "    </tr>\n",
       "    <tr>\n",
       "      <th>7</th>\n",
       "      <td>Family</td>\n",
       "      <td>7</td>\n",
       "      <td>0.012601</td>\n",
       "    </tr>\n",
       "    <tr>\n",
       "      <th>8</th>\n",
       "      <td>Fantasy</td>\n",
       "      <td>8</td>\n",
       "      <td>0.016599</td>\n",
       "    </tr>\n",
       "    <tr>\n",
       "      <th>9</th>\n",
       "      <td>Foreign</td>\n",
       "      <td>9</td>\n",
       "      <td>0.002743</td>\n",
       "    </tr>\n",
       "    <tr>\n",
       "      <th>10</th>\n",
       "      <td>History</td>\n",
       "      <td>10</td>\n",
       "      <td>0.006579</td>\n",
       "    </tr>\n",
       "    <tr>\n",
       "      <th>11</th>\n",
       "      <td>Horror</td>\n",
       "      <td>11</td>\n",
       "      <td>0.061236</td>\n",
       "    </tr>\n",
       "    <tr>\n",
       "      <th>12</th>\n",
       "      <td>Music</td>\n",
       "      <td>12</td>\n",
       "      <td>0.011415</td>\n",
       "    </tr>\n",
       "    <tr>\n",
       "      <th>13</th>\n",
       "      <td>Mystery</td>\n",
       "      <td>13</td>\n",
       "      <td>0.013042</td>\n",
       "    </tr>\n",
       "    <tr>\n",
       "      <th>14</th>\n",
       "      <td>Romance</td>\n",
       "      <td>14</td>\n",
       "      <td>0.028363</td>\n",
       "    </tr>\n",
       "    <tr>\n",
       "      <th>15</th>\n",
       "      <td>Science Fiction</td>\n",
       "      <td>15</td>\n",
       "      <td>0.015228</td>\n",
       "    </tr>\n",
       "    <tr>\n",
       "      <th>16</th>\n",
       "      <td>Thriller</td>\n",
       "      <td>16</td>\n",
       "      <td>0.039057</td>\n",
       "    </tr>\n",
       "    <tr>\n",
       "      <th>17</th>\n",
       "      <td>War</td>\n",
       "      <td>17</td>\n",
       "      <td>0.008858</td>\n",
       "    </tr>\n",
       "    <tr>\n",
       "      <th>18</th>\n",
       "      <td>Western</td>\n",
       "      <td>18</td>\n",
       "      <td>0.010648</td>\n",
       "    </tr>\n",
       "  </tbody>\n",
       "</table>\n",
       "</div>"
      ],
      "text/plain": [
       "              genre  label    weight\n",
       "0            Action      0  0.105105\n",
       "1         Adventure      1  0.035384\n",
       "2         Animation      2  0.026294\n",
       "3            Comedy      3  0.206189\n",
       "4             Crime      4  0.039685\n",
       "5       Documentary      5  0.079695\n",
       "6             Drama      6  0.281281\n",
       "7            Family      7  0.012601\n",
       "8           Fantasy      8  0.016599\n",
       "9           Foreign      9  0.002743\n",
       "10          History     10  0.006579\n",
       "11           Horror     11  0.061236\n",
       "12            Music     12  0.011415\n",
       "13          Mystery     13  0.013042\n",
       "14          Romance     14  0.028363\n",
       "15  Science Fiction     15  0.015228\n",
       "16         Thriller     16  0.039057\n",
       "17              War     17  0.008858\n",
       "18          Western     18  0.010648"
      ]
     },
     "execution_count": 30,
     "metadata": {},
     "output_type": "execute_result"
    }
   ],
   "source": [
    "genreLabel.head(len(genresDic))"
   ]
  },
  {
   "cell_type": "code",
   "execution_count": 20,
   "metadata": {},
   "outputs": [
    {
     "data": {
      "text/html": [
       "<div>\n",
       "<style scoped>\n",
       "    .dataframe tbody tr th:only-of-type {\n",
       "        vertical-align: middle;\n",
       "    }\n",
       "\n",
       "    .dataframe tbody tr th {\n",
       "        vertical-align: top;\n",
       "    }\n",
       "\n",
       "    .dataframe thead th {\n",
       "        text-align: right;\n",
       "    }\n",
       "</style>\n",
       "<table border=\"1\" class=\"dataframe\">\n",
       "  <thead>\n",
       "    <tr style=\"text-align: right;\">\n",
       "      <th></th>\n",
       "      <th>original_title</th>\n",
       "      <th>overview</th>\n",
       "      <th>genres</th>\n",
       "      <th>genre label</th>\n",
       "    </tr>\n",
       "  </thead>\n",
       "  <tbody>\n",
       "    <tr>\n",
       "      <th>0</th>\n",
       "      <td>Toy Story</td>\n",
       "      <td>led woody andy toys live happily room andy bir...</td>\n",
       "      <td>Animation</td>\n",
       "      <td>2</td>\n",
       "    </tr>\n",
       "    <tr>\n",
       "      <th>1</th>\n",
       "      <td>Jumanji</td>\n",
       "      <td>siblings judy peter discover enchanted board g...</td>\n",
       "      <td>Adventure</td>\n",
       "      <td>1</td>\n",
       "    </tr>\n",
       "    <tr>\n",
       "      <th>2</th>\n",
       "      <td>Grumpier Old Men</td>\n",
       "      <td>family wedding reignites ancient feud neighbor...</td>\n",
       "      <td>Romance</td>\n",
       "      <td>14</td>\n",
       "    </tr>\n",
       "    <tr>\n",
       "      <th>3</th>\n",
       "      <td>Waiting to Exhale</td>\n",
       "      <td>cheated mistreated stepped women holding breat...</td>\n",
       "      <td>Comedy</td>\n",
       "      <td>3</td>\n",
       "    </tr>\n",
       "    <tr>\n",
       "      <th>4</th>\n",
       "      <td>Father of the Bride Part II</td>\n",
       "      <td>george banks recovered daughter wedding receiv...</td>\n",
       "      <td>Comedy</td>\n",
       "      <td>3</td>\n",
       "    </tr>\n",
       "  </tbody>\n",
       "</table>\n",
       "</div>"
      ],
      "text/plain": [
       "                original_title  \\\n",
       "0                    Toy Story   \n",
       "1                      Jumanji   \n",
       "2             Grumpier Old Men   \n",
       "3            Waiting to Exhale   \n",
       "4  Father of the Bride Part II   \n",
       "\n",
       "                                            overview     genres  genre label  \n",
       "0  led woody andy toys live happily room andy bir...  Animation            2  \n",
       "1  siblings judy peter discover enchanted board g...  Adventure            1  \n",
       "2  family wedding reignites ancient feud neighbor...    Romance           14  \n",
       "3  cheated mistreated stepped women holding breat...     Comedy            3  \n",
       "4  george banks recovered daughter wedding receiv...     Comedy            3  "
      ]
     },
     "execution_count": 20,
     "metadata": {},
     "output_type": "execute_result"
    }
   ],
   "source": [
    "df.head(5)"
   ]
  },
  {
   "cell_type": "code",
   "execution_count": 21,
   "metadata": {},
   "outputs": [],
   "source": [
    "#df.to_csv('datasets/preprocessed.csv', index=False)\n",
    "#genreLabel.to_csv('datasets/genreLabels.csv', index = False)"
   ]
  },
  {
   "cell_type": "markdown",
   "metadata": {},
   "source": [
    "A bit of analysis to see what kinds of genres we have and how often they appear"
   ]
  },
  {
   "cell_type": "code",
   "execution_count": 22,
   "metadata": {},
   "outputs": [],
   "source": [
    "allGenres = df['genres'].tolist()\n",
    "\n",
    "freq = FreqDist(allGenres)"
   ]
  },
  {
   "cell_type": "code",
   "execution_count": 23,
   "metadata": {},
   "outputs": [
    {
     "data": {
      "text/plain": [
       "[('Drama', 12099),\n",
       " ('Comedy', 8869),\n",
       " ('Action', 4521),\n",
       " ('Documentary', 3428),\n",
       " ('Horror', 2634),\n",
       " ('Crime', 1707),\n",
       " ('Thriller', 1680),\n",
       " ('Adventure', 1522),\n",
       " ('Romance', 1220),\n",
       " ('Animation', 1131),\n",
       " ('Fantasy', 714),\n",
       " ('Science Fiction', 655),\n",
       " ('Mystery', 561),\n",
       " ('Family', 542),\n",
       " ('Music', 491),\n",
       " ('Western', 458),\n",
       " ('War', 381),\n",
       " ('History', 283),\n",
       " ('Foreign', 118)]"
      ]
     },
     "execution_count": 23,
     "metadata": {},
     "output_type": "execute_result"
    }
   ],
   "source": [
    "freq.most_common(50)"
   ]
  },
  {
   "cell_type": "code",
   "execution_count": 24,
   "metadata": {},
   "outputs": [
    {
     "data": {
      "image/png": "[encoded data removed]",
      "text/plain": [
       "<Figure size 432x288 with 1 Axes>"
      ]
     },
     "metadata": {
      "needs_background": "light"
     },
     "output_type": "display_data"
    },
    {
     "data": {
      "text/plain": [
       "<matplotlib.axes._subplots.AxesSubplot at 0x7f2352a7dcc0>"
      ]
     },
     "execution_count": 24,
     "metadata": {},
     "output_type": "execute_result"
    }
   ],
   "source": [
    "freq.plot(50, cumulative=False)"
   ]
  },
  {
   "cell_type": "code",
   "execution_count": null,
   "metadata": {},
   "outputs": [],
   "source": []
  }
 ],
 "metadata": {
  "kernelspec": {
   "display_name": "Python 3",
   "language": "python",
   "name": "python3"
  },
  "language_info": {
   "codemirror_mode": {
    "name": "ipython",
    "version": 3
   },
   "file_extension": ".py",
   "mimetype": "text/x-python",
   "name": "python",
   "nbconvert_exporter": "python",
   "pygments_lexer": "ipython3",
   "version": "3.6.8"
  }
 },
 "nbformat": 4,
 "nbformat_minor": 2
}
